{
 "cells": [
  {
   "cell_type": "code",
   "execution_count": 20,
   "metadata": {},
   "outputs": [],
   "source": [
    "class Solution(object):\n",
    "    def longestOnes(self, nums, k):\n",
    "        left = 0\n",
    "        max_length = 0\n",
    "        zeros_count = 0\n",
    "\n",
    "        for right in range(len(nums)):\n",
    "            # Nếu gặp số 0, tăng số lượng 0 trong cửa sổ\n",
    "            if nums[right] == 0:\n",
    "                zeros_count += 1\n",
    "\n",
    "            # Nếu số lượng 0 vượt quá k, thu hẹp cửa sổ từ bên trái\n",
    "            while zeros_count > k:\n",
    "                if nums[left] == 0:\n",
    "                    zeros_count -= 1\n",
    "                left += 1\n",
    "\n",
    "            # Cập nhật độ dài lớn nhất\n",
    "            max_length = max(max_length, right - left + 1)\n",
    "\n",
    "        return max_length\n",
    "        "
   ]
  },
  {
   "cell_type": "code",
   "execution_count": 8,
   "metadata": {},
   "outputs": [],
   "source": [
    "#Tim ra max length bang cach kiem soat k sao cho so luong 0 trong window = k\n",
    "#Lam viec nay bang cach giu cho k khong am (tuc la k >= 0)\n",
    "class Solution(object):\n",
    "    def longestOnes(self, nums, k):\n",
    "        \"\"\"\n",
    "        :type nums: List[int]\n",
    "        :type k: int\n",
    "        :rtype: int\n",
    "        \"\"\"\n",
    "        left = 0\n",
    "        for right in range(len(nums)):\n",
    "            k -= 1 - nums[right]\n",
    "            if k < 0:\n",
    "                k += 1 - nums[left]\n",
    "                left += 1\n",
    "        return right - left + 1"
   ]
  },
  {
   "cell_type": "code",
   "execution_count": null,
   "metadata": {},
   "outputs": [],
   "source": [
    "nums2 = [1,1,1,1,0,0,0,0,1,1,1,1,0]\n",
    "nums = [1,1,1,1,0,0,0,0,1]\n",
    "k = 2\n",
    "solution = Solution()\n",
    "solution.longestOnes(nums, k)"
   ]
  },
  {
   "cell_type": "code",
   "execution_count": 3,
   "metadata": {},
   "outputs": [
    {
     "data": {
      "text/plain": [
       "6"
      ]
     },
     "execution_count": 3,
     "metadata": {},
     "output_type": "execute_result"
    }
   ],
   "source": [
    "nums = [1,1,1,0,0,0,1,1,1,1,0]\n",
    "k = 2\n",
    "solution = Solution()\n",
    "solution.longestOnes(nums, k)"
   ]
  },
  {
   "cell_type": "code",
   "execution_count": 4,
   "metadata": {},
   "outputs": [
    {
     "data": {
      "text/plain": [
       "10"
      ]
     },
     "execution_count": 4,
     "metadata": {},
     "output_type": "execute_result"
    }
   ],
   "source": [
    "nums = [0,0,1,1,0,0,1,1,1,0,1,1,0,0,0,1,1,1,1]\n",
    "k = 3\n",
    "solution = Solution()\n",
    "solution.longestOnes(nums, k)"
   ]
  },
  {
   "cell_type": "code",
   "execution_count": null,
   "metadata": {},
   "outputs": [],
   "source": []
  }
 ],
 "metadata": {
  "kernelspec": {
   "display_name": "naruto",
   "language": "python",
   "name": "python3"
  },
  "language_info": {
   "codemirror_mode": {
    "name": "ipython",
    "version": 3
   },
   "file_extension": ".py",
   "mimetype": "text/x-python",
   "name": "python",
   "nbconvert_exporter": "python",
   "pygments_lexer": "ipython3",
   "version": "3.10.13"
  }
 },
 "nbformat": 4,
 "nbformat_minor": 2
}
