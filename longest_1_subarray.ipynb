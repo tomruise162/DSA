{
 "cells": [
  {
   "cell_type": "code",
   "execution_count": null,
   "metadata": {},
   "outputs": [],
   "source": [
    "class Solution(object):\n",
    "    def longestSubarray(self, nums):\n",
    "        \"\"\"\n",
    "        :type nums: List[int]\n",
    "        :rtype: int\n",
    "        \"\"\"\n",
    "        used = prev_l = past_l = max_l = 0\n",
    "        for i in nums:\n",
    "            if i == 0:\n",
    "                max_l = max(max_l, prev_l + past_l)\n",
    "                prev_l, past_l = past_l, 0\n",
    "                used = True\n",
    "            else:\n",
    "                past_l += 1\n",
    "\n",
    "        max_l = max(max_l, prev_l + past_l)\n",
    "\n",
    "        if not used:\n",
    "            max_l -= 1\n",
    "        \n",
    "        return max_l"
   ]
  },
  {
   "cell_type": "code",
   "execution_count": 6,
   "metadata": {},
   "outputs": [],
   "source": [
    "class Solution(object):\n",
    "    def longestSubarray(self, nums):\n",
    "        \"\"\"\n",
    "        :type nums: List[int]\n",
    "        :rtype: int\n",
    "        \"\"\"\n",
    "        used_zero = False  # Theo dõi xem một số 0 đã được xóa chưa\n",
    "        prev_ones = 0  # Độ dài dãy liên tiếp 1 trước số 0\n",
    "        curr_ones = 0  # Độ dài dãy liên tiếp 1 sau số 0\n",
    "        max_length = 0  # Độ dài tối đa của dãy con tìm được\n",
    "        \n",
    "        for num in nums:\n",
    "            if num == 0:\n",
    "                # Ghi nhận rằng đã gặp một số 0\n",
    "                # Nhu dau hieu cua viec da chuyen sang 1 window moi de tinh toan\n",
    "                # Vi moi window chi duoc remove 0 mot lan, nen khi used_zero = True --> da xac dinh duoc length cua\n",
    "                # window do\n",
    "                used_zero = True\n",
    "\n",
    "                # Cập nhật độ dài tối đa của dãy con\n",
    "                max_length = max(max_length, prev_ones + curr_ones)\n",
    "                \n",
    "                # Dịch chuyển `curr_ones` sang `prev_ones` và reset `curr_ones`\n",
    "                # De tinh toan cho window moi\n",
    "                prev_ones = curr_ones\n",
    "                curr_ones = 0\n",
    "            else:\n",
    "                # Tăng độ dài dãy liên tiếp hiện tại\n",
    "                curr_ones += 1\n",
    "        \n",
    "        # Xử lý lần cuối cùng sau vòng lặp\n",
    "        # Phong truong hop day so ket thuc bang 1, max_length khong duoc cap nhat trong vong lap\n",
    "        max_length = max(max_length, prev_ones + curr_ones)\n",
    "        \n",
    "        # Nếu không có số 0 nào, giảm độ dài đi 1 vì phải xóa một phần tử\n",
    "        if not used_zero:\n",
    "            max_length -= 1\n",
    "        \n",
    "        return max_length\n"
   ]
  },
  {
   "cell_type": "code",
   "execution_count": 7,
   "metadata": {},
   "outputs": [
    {
     "data": {
      "text/plain": [
       "5"
      ]
     },
     "execution_count": 7,
     "metadata": {},
     "output_type": "execute_result"
    }
   ],
   "source": [
    "solution = Solution()\n",
    "nums = [1, 1, 0, 1, 1, 1]\n",
    "solution.longestSubarray(nums)"
   ]
  },
  {
   "cell_type": "code",
   "execution_count": null,
   "metadata": {},
   "outputs": [],
   "source": []
  }
 ],
 "metadata": {
  "kernelspec": {
   "display_name": "naruto",
   "language": "python",
   "name": "python3"
  },
  "language_info": {
   "codemirror_mode": {
    "name": "ipython",
    "version": 3
   },
   "file_extension": ".py",
   "mimetype": "text/x-python",
   "name": "python",
   "nbconvert_exporter": "python",
   "pygments_lexer": "ipython3",
   "version": "3.10.13"
  }
 },
 "nbformat": 4,
 "nbformat_minor": 2
}
