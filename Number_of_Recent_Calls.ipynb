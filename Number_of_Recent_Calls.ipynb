{
 "cells": [
  {
   "cell_type": "code",
   "execution_count": 2,
   "metadata": {},
   "outputs": [
    {
     "name": "stdout",
     "output_type": "stream",
     "text": [
      "Sau khi enqueue: deque([10, 20, 30])\n",
      "Sau khi dequeue: deque([20, 30])\n",
      "Sau khi dequeue tiếp: deque([30])\n"
     ]
    }
   ],
   "source": [
    "from collections import deque\n",
    "\n",
    "# Khởi tạo hàng đợi\n",
    "queue = deque()\n",
    "\n",
    "# Enqueue - Thêm phần tử vào cuối hàng đợi\n",
    "queue.append(10)\n",
    "queue.append(20)\n",
    "queue.append(30)\n",
    "print(\"Sau khi enqueue:\", queue)  # deque([10, 20, 30])\n",
    "\n",
    "# Dequeue - Xóa phần tử đầu tiên trong hàng đợi\n",
    "queue.popleft()  \n",
    "print(\"Sau khi dequeue:\", queue)  # deque([20, 30])\n",
    "\n",
    "queue.popleft()\n",
    "print(\"Sau khi dequeue tiếp:\", queue)  # deque([30])"
   ]
  },
  {
   "cell_type": "code",
   "execution_count": 3,
   "metadata": {},
   "outputs": [],
   "source": [
    "class RecentCounter(object):\n",
    "\n",
    "    def __init__(self):\n",
    "        self.recent_calls = deque()       \n",
    "\n",
    "    def ping(self, t):\n",
    "        \"\"\"\n",
    "        :type t: int\n",
    "        :rtype: int\n",
    "        \"\"\"\n",
    "        self.recent_calls.append(t)\n",
    "        threshold = t - 3000\n",
    "        while self.recent_calls[0] < threshold:\n",
    "            self.recent_calls.popleft()\n",
    "        return len(self.recent_calls)\n"
   ]
  },
  {
   "cell_type": "code",
   "execution_count": 4,
   "metadata": {},
   "outputs": [],
   "source": [
    "class RecentCounter(object):\n",
    "\n",
    "    def __init__(self):\n",
    "        self.recent_calls = []     \n",
    "\n",
    "    def ping(self, t):\n",
    "        \"\"\"\n",
    "        :type t: int\n",
    "        :rtype: int\n",
    "        \"\"\"\n",
    "        threshold = t - 3000\n",
    "        self.recent_calls.append(t)\n",
    "        while self.recent_calls[0] < threshold:\n",
    "            self.recent_calls.pop(0)\n",
    "        return len(self.recent_calls)"
   ]
  }
 ],
 "metadata": {
  "kernelspec": {
   "display_name": "kurama",
   "language": "python",
   "name": "python3"
  },
  "language_info": {
   "codemirror_mode": {
    "name": "ipython",
    "version": 3
   },
   "file_extension": ".py",
   "mimetype": "text/x-python",
   "name": "python",
   "nbconvert_exporter": "python",
   "pygments_lexer": "ipython3",
   "version": "3.10.13"
  }
 },
 "nbformat": 4,
 "nbformat_minor": 2
}
