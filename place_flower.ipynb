{
 "cells": [
  {
   "cell_type": "code",
   "execution_count": 18,
   "metadata": {},
   "outputs": [],
   "source": [
    "class Solution(object):\n",
    "    def canPlaceFlowers(self, flowerbed, n):\n",
    "        \"\"\"\n",
    "        :type flowerbed: List[int]\n",
    "        :type n: int\n",
    "        :rtype: bool\n",
    "        \"\"\"\n",
    "        count = 0\n",
    "        length = len(flowerbed)\n",
    "        \n",
    "        for i in range(length):\n",
    "            if flowerbed[i] == 0:\n",
    "                # Kiểm tra hai bên\n",
    "                prev_empty = (i == 0 or flowerbed[i - 1] == 0)  # Nếu là đầu mảng hoặc ô trước đó là 0\n",
    "                next_empty = (i == length - 1 or flowerbed[i + 1] == 0)  # Nếu là cuối mảng hoặc ô sau là 0\n",
    "                \n",
    "                if prev_empty and next_empty:\n",
    "                    flowerbed[i] = 1  # Trồng hoa\n",
    "                    count += 1\n",
    "                    if count >= n:\n",
    "                        return True\n",
    "        \n",
    "        return count >= n"
   ]
  },
  {
   "cell_type": "code",
   "execution_count": 19,
   "metadata": {},
   "outputs": [
    {
     "data": {
      "text/plain": [
       "True"
      ]
     },
     "execution_count": 19,
     "metadata": {},
     "output_type": "execute_result"
    }
   ],
   "source": [
    "flowerbed = [0,0,1,0,1]\n",
    "n = 1\n",
    "solution = Solution()\n",
    "solution.canPlaceFlowers(flowerbed, n)"
   ]
  },
  {
   "cell_type": "code",
   "execution_count": null,
   "metadata": {},
   "outputs": [],
   "source": []
  }
 ],
 "metadata": {
  "kernelspec": {
   "display_name": "kurama",
   "language": "python",
   "name": "python3"
  },
  "language_info": {
   "codemirror_mode": {
    "name": "ipython",
    "version": 3
   },
   "file_extension": ".py",
   "mimetype": "text/x-python",
   "name": "python",
   "nbconvert_exporter": "python",
   "pygments_lexer": "ipython3",
   "version": "3.10.13"
  }
 },
 "nbformat": 4,
 "nbformat_minor": 2
}
