{
 "cells": [
  {
   "cell_type": "code",
   "execution_count": 1,
   "metadata": {},
   "outputs": [],
   "source": [
    "class ListNode(object):\n",
    "    def __init__(self, val=0, next=None):\n",
    "        self.val = val\n",
    "        self.next = next\n",
    "class Solution(object):\n",
    "    def oddEvenList(self, head):\n",
    "        \"\"\"\n",
    "        :type head: ListNode\n",
    "        :rtype: ListNode\n",
    "        \"\"\"\n",
    "        if head is None or head.next is None:\n",
    "            return head\n",
    "\n",
    "        odd = ListNode(0)\n",
    "        odd_ptr = odd\n",
    "        even = ListNode(0)\n",
    "        even_ptr = even\n",
    "        id_x = 1\n",
    "\n",
    "        while head != None:\n",
    "            if id_x % 2 == 0:\n",
    "                even_ptr.next = head\n",
    "                even_ptr = even_ptr.next\n",
    "            else:\n",
    "                odd_ptr.next = head\n",
    "                odd_ptr = odd_ptr.next\n",
    "            head = head.next\n",
    "            id_x += 1\n",
    "        even_ptr.next = None\n",
    "        odd_ptr.next = even.next\n",
    "        return odd.next"
   ]
  }
 ],
 "metadata": {
  "kernelspec": {
   "display_name": "kurama",
   "language": "python",
   "name": "python3"
  },
  "language_info": {
   "codemirror_mode": {
    "name": "ipython",
    "version": 3
   },
   "file_extension": ".py",
   "mimetype": "text/x-python",
   "name": "python",
   "nbconvert_exporter": "python",
   "pygments_lexer": "ipython3",
   "version": "3.10.16"
  }
 },
 "nbformat": 4,
 "nbformat_minor": 2
}
