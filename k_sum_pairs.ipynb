{
 "cells": [
  {
   "cell_type": "code",
   "execution_count": 8,
   "metadata": {},
   "outputs": [],
   "source": [
    "class Solution(object):\n",
    "    def maxOperations(self, nums, k):\n",
    "        \"\"\"\n",
    "        :type nums: List[int]\n",
    "        :type k: int\n",
    "        :rtype: int\n",
    "        \"\"\"     \n",
    "        count = 0\n",
    "        freq = {}  # Hashmap lưu số lần xuất hiện của các phần tử\n",
    "        \n",
    "        for num in nums:\n",
    "            complement = k - num  # Tìm phần tử cần để tạo thành tổng k\n",
    "            \n",
    "            if freq.get(complement, 0) > 0:  # Nếu tìm thấy complement trong hashmap\n",
    "                count += 1\n",
    "                freq[complement] -= 1  # Giảm số lượng complement vì đã dùng\n",
    "            else:\n",
    "                # Nếu không có complement, thêm num vào hashmap\n",
    "                freq[num] = freq.get(num, 0) + 1\n",
    "        \n",
    "        return count\n"
   ]
  },
  {
   "cell_type": "code",
   "execution_count": 5,
   "metadata": {},
   "outputs": [],
   "source": [
    "class Solution(object):\n",
    "    def maxOperations(self, nums, k):\n",
    "        \"\"\"\n",
    "        :type nums: List[int]\n",
    "        :type k: int\n",
    "        :rtype: int\n",
    "        \"\"\"     \n",
    "        nums.sort()\n",
    "        left = 0\n",
    "        right = len(nums) - 1\n",
    "        count = 0\n",
    "        \n",
    "        while left < right:\n",
    "            total = nums[left] + nums[right]\n",
    "            if total == k:\n",
    "                count += 1\n",
    "                left += 1\n",
    "                right -= 1\n",
    "            elif total < k:\n",
    "                left += 1\n",
    "            else:  # total > k\n",
    "                right -= 1\n",
    "        \n",
    "        return count\n",
    "\n"
   ]
  },
  {
   "cell_type": "code",
   "execution_count": 6,
   "metadata": {},
   "outputs": [
    {
     "data": {
      "text/plain": [
       "2"
      ]
     },
     "execution_count": 6,
     "metadata": {},
     "output_type": "execute_result"
    }
   ],
   "source": [
    "solution = Solution()\n",
    "nums = [1,2,3,4]\n",
    "k = 5\n",
    "\n",
    "solution.maxOperations(nums, k)"
   ]
  },
  {
   "cell_type": "code",
   "execution_count": 7,
   "metadata": {},
   "outputs": [
    {
     "data": {
      "text/plain": [
       "1"
      ]
     },
     "execution_count": 7,
     "metadata": {},
     "output_type": "execute_result"
    }
   ],
   "source": [
    "solution = Solution()\n",
    "nums = [3,1,3,4,3]\n",
    "k = 6\n",
    "solution.maxOperations(nums, k)"
   ]
  },
  {
   "cell_type": "code",
   "execution_count": null,
   "metadata": {},
   "outputs": [],
   "source": []
  }
 ],
 "metadata": {
  "kernelspec": {
   "display_name": "naruto",
   "language": "python",
   "name": "python3"
  },
  "language_info": {
   "codemirror_mode": {
    "name": "ipython",
    "version": 3
   },
   "file_extension": ".py",
   "mimetype": "text/x-python",
   "name": "python",
   "nbconvert_exporter": "python",
   "pygments_lexer": "ipython3",
   "version": "3.10.13"
  }
 },
 "nbformat": 4,
 "nbformat_minor": 2
}
